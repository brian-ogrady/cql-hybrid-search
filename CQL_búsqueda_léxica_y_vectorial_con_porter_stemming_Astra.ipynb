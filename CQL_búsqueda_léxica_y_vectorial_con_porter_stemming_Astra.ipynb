{
  "cells": [
    {
      "cell_type": "markdown",
      "metadata": {
        "id": "Q6Atximdvkjv"
      },
      "source": [
        "En este notebook, aprendará cómo utilizar búsqueda léxica en combinación con búsqueda vectorial.\n",
        "\n",
        "Author: Brian O'Grady\n",
        "\n",
        "Date: 11/11/2024\n",
        "\n",
        "Notebook adaptado de: [Vector Search Quickstart](https://docs.datastax.com/en/cql/dse/getting-started/vector-search-quickstart.html)"
      ]
    },
    {
      "cell_type": "markdown",
      "metadata": {
        "id": "XQ99m3m5vkjw",
        "jp-MarkdownHeadingCollapsed": true
      },
      "source": [
        "### Instalar dependencias"
      ]
    },
    {
      "cell_type": "code",
      "execution_count": 18,
      "metadata": {
        "editable": true,
        "id": "eWXqsH0qlkk3",
        "nbmake": {
          "post_cell_execute": [
            "from conftest import before_notebook",
            "before_notebook()"
          ]
        },
        "tags": []
      },
      "outputs": [],
      "source": [
        "%pip install -qU cassandra-driver python-dotenv"
      ]
    },
    {
      "cell_type": "markdown",
      "metadata": {},
      "source": [
        "### Iniciar variables de entorno"
      ]
    },
    {
      "cell_type": "code",
      "execution_count": 1,
      "metadata": {
        "id": "ytVtyvgJKXN8"
      },
      "outputs": [],
      "source": [
        "\n",
        "import os\n",
        "from dotenv import load_dotenv\n",
        "from src.python.utils.download_astra_bundle import download_astra_bundle_url\n",
        "\n",
        "\n",
        "load_dotenv()\n",
        "\n",
        "\n",
        "ASTRA_DB_DATABASE_ID = os.environ.get(\"ASTRA_DB_DATABASE_ID\")\n",
        "ASTRA_DB_APPLICATION_TOKEN = os.environ.get(\"ASTRA_DB_APPLICATION_TOKEN\")\n",
        "ASTRA_DB_KEYSPACE = os.environ.get(\"ASTRA_DB_KEYSPACE\")\n",
        "SAVE_DIR = '.config/'\n",
        "SECURE_CONNECT_BUNDLE_PATH = SAVE_DIR + 'secure-connect-bundle.zip'\n",
        "\n",
        "\n",
        "os.makedirs(SAVE_DIR, exist_ok=True)\n",
        "download_astra_bundle_url(database_id=ASTRA_DB_DATABASE_ID,\n",
        "                          token=ASTRA_DB_APPLICATION_TOKEN,\n",
        "                          out_file_path=SECURE_CONNECT_BUNDLE_PATH)\n"
      ]
    },
    {
      "cell_type": "markdown",
      "metadata": {},
      "source": [
        "### Establecer la sesión"
      ]
    },
    {
      "cell_type": "code",
      "execution_count": 2,
      "metadata": {
        "colab": {
          "base_uri": "https://localhost:8080/"
        },
        "id": "zevyZiSipWJE",
        "outputId": "95f81475-6dd8-4d77-f400-9e88b7ccb02f"
      },
      "outputs": [],
      "source": [
        "#@title Establecer la sesión\n",
        "from cassandra.cluster import Cluster\n",
        "from cassandra.auth import PlainTextAuthProvider\n",
        "from src.python.LexicalSearch import LexicalSearchSession\n",
        "\n",
        "\n",
        "auth_provider = PlainTextAuthProvider(username=\"token\",\n",
        "                                      password=os.environ.get(\"ASTRA_DB_APPLICATION_TOKEN\"))\n",
        "\n",
        "cluster = Cluster(\n",
        "    cloud={'secure_connect_bundle': SECURE_CONNECT_BUNDLE_PATH},\n",
        "    auth_provider=auth_provider\n",
        ")\n",
        "\n",
        "session = LexicalSearchSession(cluster.connect())\n"
      ]
    },
    {
      "cell_type": "markdown",
      "metadata": {
        "id": "0A7Ij46ovkjx"
      },
      "source": [
        "### Probar que podemos conectarnos a la base de datos\n",
        "\n"
      ]
    },
    {
      "cell_type": "code",
      "execution_count": 3,
      "metadata": {
        "colab": {
          "base_uri": "https://localhost:8080/"
        },
        "id": "pK2N5bYAvkjx",
        "outputId": "f4d348e3-4102-4e1f-8ac2-77e08589f413"
      },
      "outputs": [
        {
          "name": "stdout",
          "output_type": "stream",
          "text": [
            "Row(keyspace_name='default_keyspace')\n",
            "Row(keyspace_name='data_endpoint_auth')\n",
            "Row(keyspace_name='system_auth')\n",
            "Row(keyspace_name='datastax_sla')\n",
            "Row(keyspace_name='system_schema')\n",
            "Row(keyspace_name='cycling')\n",
            "Row(keyspace_name='system')\n",
            "Row(keyspace_name='system_traces')\n"
          ]
        }
      ],
      "source": [
        "from cassandra.query import SimpleStatement\n",
        "from cassandra.query import dict_factory\n",
        "from typing import List, Dict\n",
        "query_stmt = SimpleStatement(\"SELECT keyspace_name FROM system_schema.keyspaces;\")\n",
        "session.row_factory = dict_factory\n",
        "rows: List[dict] = session.execute(query_stmt).all()\n",
        "for row in rows:\n",
        "    print(row)"
      ]
    },
    {
      "cell_type": "markdown",
      "metadata": {
        "id": "SMcbfMSjvkjx"
      },
      "source": [
        "### Crear una tabla"
      ]
    },
    {
      "cell_type": "code",
      "execution_count": 7,
      "metadata": {
        "colab": {
          "base_uri": "https://localhost:8080/"
        },
        "id": "8HYVVE2gvkjx",
        "outputId": "e7a58488-ee04-4e02-be8a-16efefd22388"
      },
      "outputs": [
        {
          "name": "stdout",
          "output_type": "stream",
          "text": [
            "Table cycling.cycling_v3 created successfully.\n"
          ]
        }
      ],
      "source": [
        "table_name = \"cycling_v3\"\n",
        "\n",
        "schema = {\n",
        "    \"record_id\": \"timeuuid\",\n",
        "    \"id\": \"uuid\",\n",
        "    \"commenter\": \"text\",\n",
        "    \"comment\": \"text\",\n",
        "    \"comment_vector\": \"VECTOR <FLOAT, 5>\",\n",
        "    \"created_at\": \"timestamp\",\n",
        "}\n",
        "\n",
        "primary_key = [\"id\", \"created_at\"]\n",
        "\n",
        "session.create_table(keyspace=ASTRA_DB_KEYSPACE, \n",
        "                     table_name=table_name, \n",
        "                     fields=schema, \n",
        "                     primary_key=primary_key)\n"
      ]
    },
    {
      "cell_type": "markdown",
      "metadata": {
        "id": "APz1oQG-vkjy"
      },
      "source": [
        "### Crear índices"
      ]
    },
    {
      "cell_type": "markdown",
      "metadata": {
        "id": "P14g-j5zvkjy"
      },
      "source": [
        "Configuraremos dos índices:\n",
        "1. Para facilitar la búsqueda vectorial\n",
        "2. Para faciliar la búsqueda léxica. En este caso, utilizaremos el filtro de porterstem, que facilita la coincidencia de word stems usando el algoritmo de Porter stemming. También utilizaremos un filtro de \"minúscula\" para permitirnos identificar word stems en cualquier caso."
      ]
    },
    {
      "cell_type": "code",
      "execution_count": 8,
      "metadata": {},
      "outputs": [
        {
          "name": "stdout",
          "output_type": "stream",
          "text": [
            "CREATE CUSTOM INDEX ann_index_v3 ON cycling.cycling_v3(comment_vector) USING 'StorageAttachedIndex';\n"
          ]
        }
      ],
      "source": [
        "ann_index_name = \"ann_index_v3\"\n",
        "\n",
        "session.create_index(keyspace=ASTRA_DB_KEYSPACE,\n",
        "                     table_name=table_name,\n",
        "                     field_name=\"comment_vector\",\n",
        "                     index_name=ann_index_name)"
      ]
    },
    {
      "cell_type": "code",
      "execution_count": 10,
      "metadata": {
        "colab": {
          "base_uri": "https://localhost:8080/"
        },
        "id": "sLRo5PcDOCj7",
        "outputId": "fffd0c4d-412c-4061-9708-0c86afab4ae6"
      },
      "outputs": [],
      "source": [
        "index_analyzer_options = \"\"\"\n",
        "    WITH OPTIONS = {\n",
        "        'index_analyzer': '{\n",
        "            \"tokenizer\" : {\"name\" : \"standard\"},\n",
        "            \"filters\" : [{\"name\": \"lowercase\"},{\"name\" : \"porterstem\"}]\n",
        "        }'\n",
        "    };\n",
        "\"\"\"\n",
        "lexical_index_name = \"lexical_v1\"\n",
        "session.create_index(keyspace=ASTRA_DB_KEYSPACE,\n",
        "                     table_name=table_name,\n",
        "                     field_name=\"comment\",\n",
        "                     index_name=lexical_index_name,\n",
        "                     index_analyzer_options=index_analyzer_options)"
      ]
    },
    {
      "cell_type": "markdown",
      "metadata": {
        "id": "MrzoTISOvkjy"
      },
      "source": [
        "### Adicionar datos\n"
      ]
    },
    {
      "cell_type": "code",
      "execution_count": 11,
      "metadata": {
        "id": "jjMXMbgevkjy"
      },
      "outputs": [],
      "source": [
        "insert_statements = [\n",
        "    f\"\"\"\n",
        "    INSERT INTO {ASTRA_DB_KEYSPACE}.{table_name} (record_id, id, commenter, comment, created_at, comment_vector)\n",
        "    VALUES (\n",
        "        now(),\n",
        "        e7ae5cf3-d358-4d99-b900-85902fda9bb0,\n",
        "        'Alex',\n",
        "        'Raining too hard should have postponed',\n",
        "        '2017-02-14 12:43:20-0800',\n",
        "        [0.45, 0.09, 0.01, 0.2, 0.11]\n",
        "    );\"\"\",\n",
        "    f\"\"\"\n",
        "    INSERT INTO {ASTRA_DB_KEYSPACE}.{table_name} (record_id, id, commenter, comment, created_at, comment_vector)\n",
        "    VALUES (\n",
        "        now(),\n",
        "        e7ae5cf3-d358-4d99-b900-85902fda9bb0,\n",
        "        'Alex',\n",
        "        'Second rest stop was out of water',\n",
        "        '2017-03-21 13:11:09.999-0800',\n",
        "        [0.99, 0.5, 0.99, 0.1, 0.34]\n",
        "    );\"\"\",\n",
        "    f\"\"\"\n",
        "    INSERT INTO {ASTRA_DB_KEYSPACE}.{table_name} (record_id, id, commenter, comment, created_at, comment_vector)\n",
        "    VALUES (\n",
        "        now(),\n",
        "        e7ae5cf3-d358-4d99-b900-85902fda9bb0,\n",
        "        'Alex',\n",
        "        'LATE RIDERS SHOULD NOT DELAY THE START',\n",
        "        '2017-04-01 06:33:02.16-0800',\n",
        "        [0.9, 0.54, 0.12, 0.1, 0.95]\n",
        "    );\"\"\",\n",
        "    f\"\"\"\n",
        "    INSERT INTO {ASTRA_DB_KEYSPACE}.{table_name} (record_id, id, commenter, comment, created_at, comment_vector)\n",
        "    VALUES (\n",
        "        now(),\n",
        "        c7fceba0-c141-4207-9494-a29f9809de6f,\n",
        "        'Amy',\n",
        "        'The gift certificate for winning was the best',\n",
        "        totimestamp(now()),\n",
        "        [0.13, 0.8, 0.35, 0.17, 0.03]\n",
        "    );\"\"\",\n",
        "    f\"\"\"\n",
        "    INSERT INTO {ASTRA_DB_KEYSPACE}.{table_name} (record_id, id, commenter, comment, created_at, comment_vector)\n",
        "    VALUES (\n",
        "        now(),\n",
        "        c7fceba0-c141-4207-9494-a29f9809de6f,\n",
        "        'Amy',\n",
        "        'Glad you ran the race in the rain',\n",
        "        '2017-02-17 12:43:20.234+0400',\n",
        "        [0.3, 0.34, 0.2, 0.78, 0.25]\n",
        "    );\"\"\",\n",
        "    f\"\"\"\n",
        "    INSERT INTO {ASTRA_DB_KEYSPACE}.{table_name} (record_id, id, commenter, comment, created_at, comment_vector)\n",
        "    VALUES (\n",
        "        now(),\n",
        "        c7fceba0-c141-4207-9494-a29f9809de6f,\n",
        "        'Amy',\n",
        "        'Great snacks at all reststops, but it rained super hard',\n",
        "        '2017-03-22 5:16:59.001+0400',\n",
        "        [0.1, 0.4, 0.1, 0.52, 0.09]\n",
        "    );\"\"\",\n",
        "    f\"\"\"\n",
        "    INSERT INTO {ASTRA_DB_KEYSPACE}.{table_name} (record_id, id, commenter, comment, created_at, comment_vector)\n",
        "    VALUES (\n",
        "        now(),\n",
        "        c7fceba0-c141-4207-9494-a29f9809de6f,\n",
        "        'Amy',\n",
        "        'Last climb was a killer',\n",
        "        '2017-04-01 17:43:08.030+0400',\n",
        "        [0.3, 0.75, 0.2, 0.2, 0.5]\n",
        "    );\"\"\"\n",
        "]\n",
        "\n",
        "# Execute each statement\n",
        "for stmt in insert_statements:\n",
        "    session.execute(SimpleStatement(stmt))"
      ]
    },
    {
      "cell_type": "markdown",
      "metadata": {
        "id": "ooQSJR25vkjy"
      },
      "source": [
        "### Probar la búsqueda léxica"
      ]
    },
    {
      "cell_type": "markdown",
      "metadata": {
        "id": "owz5k91-vkjy"
      },
      "source": [
        "Emparejaremos \"rained\", \"rain\", y \"Raining\" solo usando el stem \"rain\"."
      ]
    },
    {
      "cell_type": "code",
      "execution_count": 12,
      "metadata": {
        "colab": {
          "base_uri": "https://localhost:8080/"
        },
        "id": "N9SKiRujvkjy",
        "outputId": "c4992f47-c06c-47d9-86d2-e84d82ef6c83"
      },
      "outputs": [
        {
          "name": "stdout",
          "output_type": "stream",
          "text": [
            "[\n",
            "    \"e7ae5cf3-d358-4d99-b900-85902fda9bb0\",\n",
            "    \"2017-02-14 20:43:20\",\n",
            "    \"Raining too hard should have postponed\",\n",
            "    [\n",
            "        0.44999998807907104,\n",
            "        0.09000000357627869,\n",
            "        0.009999999776482582,\n",
            "        0.20000000298023224,\n",
            "        0.10999999940395355\n",
            "    ],\n",
            "    \"Alex\",\n",
            "    \"fb1ef370-a12b-11ef-902f-636da99c8be7\"\n",
            "]\n",
            "[\n",
            "    \"c7fceba0-c141-4207-9494-a29f9809de6f\",\n",
            "    \"2017-02-17 08:43:20.234000\",\n",
            "    \"Glad you ran the race in the rain\",\n",
            "    [\n",
            "        0.30000001192092896,\n",
            "        0.3400000035762787,\n",
            "        0.20000000298023224,\n",
            "        0.7799999713897705,\n",
            "        0.25\n",
            "    ],\n",
            "    \"Amy\",\n",
            "    \"fb3c1860-a12b-11ef-902f-636da99c8be7\"\n",
            "]\n",
            "[\n",
            "    \"c7fceba0-c141-4207-9494-a29f9809de6f\",\n",
            "    \"2017-03-22 01:16:59.001000\",\n",
            "    \"Great snacks at all reststops, but it rained super hard\",\n",
            "    [\n",
            "        0.10000000149011612,\n",
            "        0.4000000059604645,\n",
            "        0.10000000149011612,\n",
            "        0.5199999809265137,\n",
            "        0.09000000357627869\n",
            "    ],\n",
            "    \"Amy\",\n",
            "    \"fb408530-a12b-11ef-902f-636da99c8be7\"\n",
            "]\n"
          ]
        }
      ],
      "source": [
        "import json\n",
        "ann_query = f\"\"\"SELECT * FROM {ASTRA_DB_KEYSPACE}.{table_name}\n",
        "    where comment : 'rain'\n",
        "    LIMIT 3;\"\"\"\n",
        "rows: List[dict] = session.execute(ann_query).all()\n",
        "for row in rows:\n",
        "    print(json.dumps(row, default=str, indent=4))"
      ]
    },
    {
      "cell_type": "markdown",
      "metadata": {
        "id": "8Dzhy4XLvkjy"
      },
      "source": [
        "### Combinar búsqueda léxica con búsqueda vectorial\n",
        "\n"
      ]
    },
    {
      "cell_type": "markdown",
      "metadata": {
        "id": "aax8Hj_9vkjy"
      },
      "source": [
        "\n",
        "Podemos filtrar por el stem (\"rain\" en este caso) y ordenar los resultados por similaridad vectorial."
      ]
    },
    {
      "cell_type": "code",
      "execution_count": 13,
      "metadata": {
        "colab": {
          "base_uri": "https://localhost:8080/"
        },
        "id": "Ke7z6yTmvkjy",
        "outputId": "a5bad778-3dff-43ea-c860-b44f5900f519"
      },
      "outputs": [
        {
          "name": "stdout",
          "output_type": "stream",
          "text": [
            "[\n",
            "    \"Great snacks at all reststops, but it rained super hard\",\n",
            "    0.8653713464736938\n",
            "]\n"
          ]
        }
      ],
      "source": [
        "import json\n",
        "ann_query = f\"\"\"\n",
        "    SELECT  comment, similarity_cosine(comment_vector, [0.2, 0.15, 0.3, 0.2, 0.05])\n",
        "      FROM {ASTRA_DB_KEYSPACE}.{table_name}\n",
        "      WHERE comment: 'snack'\n",
        "    ORDER BY comment_vector ANN OF [0.1, 0.15, 0.3, 0.12, 0.05]\n",
        "    LIMIT 3;  \"\"\"\n",
        "rows: List[dict] = session.execute(ann_query).all()\n",
        "for row in rows:\n",
        "    print(json.dumps(row, default=str, indent=4))"
      ]
    },
    {
      "cell_type": "markdown",
      "metadata": {
        "id": "6c0AtdUFvkjz"
      },
      "source": [
        "### Más opciones léxicas"
      ]
    },
    {
      "cell_type": "markdown",
      "metadata": {
        "id": "HwQKJKs-vkjz"
      },
      "source": [
        "Hay más filtros (además de porter stemming). Por favor, vea esta lista: https://docs.datastax.com/en/astra-db-serverless/cql/use-analyzers-with-cql.html#built-in-analyzers"
      ]
    }
  ],
  "metadata": {
    "colab": {
      "provenance": []
    },
    "kernelspec": {
      "display_name": "Python 3 (ipykernel)",
      "language": "python",
      "name": "python3"
    },
    "language_info": {
      "codemirror_mode": {
        "name": "ipython",
        "version": 3
      },
      "file_extension": ".py",
      "mimetype": "text/x-python",
      "name": "python",
      "nbconvert_exporter": "python",
      "pygments_lexer": "ipython3",
      "version": "3.10.10"
    }
  },
  "nbformat": 4,
  "nbformat_minor": 0
}
